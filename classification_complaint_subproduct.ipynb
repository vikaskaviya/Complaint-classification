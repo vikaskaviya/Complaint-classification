{
 "cells": [
  {
   "cell_type": "markdown",
   "metadata": {},
   "source": [
    "# Complaint classification"
   ]
  },
  {
   "cell_type": "code",
   "execution_count": 3,
   "metadata": {},
   "outputs": [
    {
     "name": "stdout",
     "output_type": "stream",
     "text": [
      "C:\\Users\\hp\\Downloads\n"
     ]
    }
   ],
   "source": [
    "cd Downloads"
   ]
  },
  {
   "cell_type": "code",
   "execution_count": 4,
   "metadata": {},
   "outputs": [],
   "source": [
    "import pandas as pd \n",
    "import numpy as np \n",
    "import matplotlib.pyplot as plt\n",
    "import seaborn as sns\n"
   ]
  },
  {
   "cell_type": "code",
   "execution_count": 5,
   "metadata": {},
   "outputs": [],
   "source": [
    "df = pd.read_csv(\"Consumer_Complaints.csv\")"
   ]
  },
  {
   "cell_type": "code",
   "execution_count": 8,
   "metadata": {
    "scrolled": true
   },
   "outputs": [
    {
     "data": {
      "text/plain": [
       "'When my loan was switched over to Navient i was never told that i had a deliquint balance because with XXXX i did not. When going to purchase a vehicle i discovered my credit score had been dropped from the XXXX into the XXXX. I have been faithful at paying my student loan. I was told that Navient was the company i had delinquency with. I contacted Navient to resolve this issue you and kept being told to just contact the credit bureaus and expalin the situation and maybe they could help me. I was so angry that i just hurried and paid the balance off and then after tried to dispute the delinquency with the credit bureaus. I have had so much trouble bringing my credit score back up.'"
      ]
     },
     "execution_count": 8,
     "metadata": {},
     "output_type": "execute_result"
    }
   ],
   "source": [
    "df['Consumer complaint narrative'][1]"
   ]
  },
  {
   "cell_type": "markdown",
   "metadata": {},
   "source": [
    "## classifing sub products of mortgage product\n",
    "\n",
    "I'll classify Mortgage product's sub products "
   ]
  },
  {
   "cell_type": "code",
   "execution_count": 4,
   "metadata": {},
   "outputs": [],
   "source": [
    "df = df[df.Product == 'Mortgage']\n"
   ]
  },
  {
   "cell_type": "markdown",
   "metadata": {},
   "source": [
    "Total rows of mortgage product = 264785"
   ]
  },
  {
   "cell_type": "code",
   "execution_count": 5,
   "metadata": {},
   "outputs": [
    {
     "data": {
      "text/plain": [
       "(264785, 18)"
      ]
     },
     "execution_count": 5,
     "metadata": {},
     "output_type": "execute_result"
    }
   ],
   "source": [
    "df.shape\n"
   ]
  },
  {
   "cell_type": "code",
   "execution_count": 7,
   "metadata": {},
   "outputs": [],
   "source": [
    "col = ['Product', 'Sub-product','Consumer complaint narrative']"
   ]
  },
  {
   "cell_type": "code",
   "execution_count": 8,
   "metadata": {},
   "outputs": [],
   "source": [
    "df = df[col]"
   ]
  },
  {
   "cell_type": "code",
   "execution_count": 9,
   "metadata": {},
   "outputs": [
    {
     "data": {
      "text/plain": [
       "(264785, 3)"
      ]
     },
     "execution_count": 9,
     "metadata": {},
     "output_type": "execute_result"
    }
   ],
   "source": [
    "df.shape"
   ]
  },
  {
   "cell_type": "markdown",
   "metadata": {},
   "source": [
    "As problem statement says I need to classifiy the problem with help of 'consumer complaint narrative' feature. So those Rows which are NULL in 'consumer complaint narrative' must be droped because We will not able to classify complain in sub-product it if we don't have input feature."
   ]
  },
  {
   "cell_type": "code",
   "execution_count": 10,
   "metadata": {},
   "outputs": [],
   "source": [
    "df = df[pd.notnull(df['Consumer complaint narrative'])]"
   ]
  },
  {
   "cell_type": "code",
   "execution_count": 11,
   "metadata": {},
   "outputs": [
    {
     "data": {
      "text/plain": [
       "(48290, 3)"
      ]
     },
     "execution_count": 11,
     "metadata": {},
     "output_type": "execute_result"
    }
   ],
   "source": [
    "df.shape"
   ]
  },
  {
   "cell_type": "code",
   "execution_count": 12,
   "metadata": {},
   "outputs": [
    {
     "data": {
      "text/html": [
       "<div>\n",
       "<style scoped>\n",
       "    .dataframe tbody tr th:only-of-type {\n",
       "        vertical-align: middle;\n",
       "    }\n",
       "\n",
       "    .dataframe tbody tr th {\n",
       "        vertical-align: top;\n",
       "    }\n",
       "\n",
       "    .dataframe thead th {\n",
       "        text-align: right;\n",
       "    }\n",
       "</style>\n",
       "<table border=\"1\" class=\"dataframe\">\n",
       "  <thead>\n",
       "    <tr style=\"text-align: right;\">\n",
       "      <th></th>\n",
       "      <th>Product</th>\n",
       "      <th>Sub-product</th>\n",
       "      <th>Consumer complaint narrative</th>\n",
       "    </tr>\n",
       "  </thead>\n",
       "  <tbody>\n",
       "    <tr>\n",
       "      <th>7</th>\n",
       "      <td>Mortgage</td>\n",
       "      <td>Conventional home mortgage</td>\n",
       "      <td>My mortgage is with BB &amp; T Bank, recently I ha...</td>\n",
       "    </tr>\n",
       "    <tr>\n",
       "      <th>13</th>\n",
       "      <td>Mortgage</td>\n",
       "      <td>Conventional fixed mortgage</td>\n",
       "      <td>The entire lending experience with Citizens Ba...</td>\n",
       "    </tr>\n",
       "    <tr>\n",
       "      <th>339</th>\n",
       "      <td>Mortgage</td>\n",
       "      <td>Conventional home mortgage</td>\n",
       "      <td>I filed a prior complaint with this mortgage c...</td>\n",
       "    </tr>\n",
       "    <tr>\n",
       "      <th>374</th>\n",
       "      <td>Mortgage</td>\n",
       "      <td>Conventional home mortgage</td>\n",
       "      <td>In XX/XX/XXXX, I fell behind in my mortgage pa...</td>\n",
       "    </tr>\n",
       "    <tr>\n",
       "      <th>415</th>\n",
       "      <td>Mortgage</td>\n",
       "      <td>Conventional home mortgage</td>\n",
       "      <td>S.P.S. disregards mortgage contract and contin...</td>\n",
       "    </tr>\n",
       "  </tbody>\n",
       "</table>\n",
       "</div>"
      ],
      "text/plain": [
       "      Product                  Sub-product  \\\n",
       "7    Mortgage   Conventional home mortgage   \n",
       "13   Mortgage  Conventional fixed mortgage   \n",
       "339  Mortgage   Conventional home mortgage   \n",
       "374  Mortgage   Conventional home mortgage   \n",
       "415  Mortgage   Conventional home mortgage   \n",
       "\n",
       "                          Consumer complaint narrative  \n",
       "7    My mortgage is with BB & T Bank, recently I ha...  \n",
       "13   The entire lending experience with Citizens Ba...  \n",
       "339  I filed a prior complaint with this mortgage c...  \n",
       "374  In XX/XX/XXXX, I fell behind in my mortgage pa...  \n",
       "415  S.P.S. disregards mortgage contract and contin...  "
      ]
     },
     "execution_count": 12,
     "metadata": {},
     "output_type": "execute_result"
    }
   ],
   "source": [
    "df.head()"
   ]
  },
  {
   "cell_type": "markdown",
   "metadata": {},
   "source": [
    "add a column encoding the product as an integer because categorical variables are often better represented by integers than strings. so the result column is category_id."
   ]
  },
  {
   "cell_type": "code",
   "execution_count": 13,
   "metadata": {},
   "outputs": [
    {
     "data": {
      "text/html": [
       "<div>\n",
       "<style scoped>\n",
       "    .dataframe tbody tr th:only-of-type {\n",
       "        vertical-align: middle;\n",
       "    }\n",
       "\n",
       "    .dataframe tbody tr th {\n",
       "        vertical-align: top;\n",
       "    }\n",
       "\n",
       "    .dataframe thead th {\n",
       "        text-align: right;\n",
       "    }\n",
       "</style>\n",
       "<table border=\"1\" class=\"dataframe\">\n",
       "  <thead>\n",
       "    <tr style=\"text-align: right;\">\n",
       "      <th></th>\n",
       "      <th>Product</th>\n",
       "      <th>Sub-product</th>\n",
       "      <th>Consumer_complaint_narrative</th>\n",
       "      <th>category_id</th>\n",
       "    </tr>\n",
       "  </thead>\n",
       "  <tbody>\n",
       "    <tr>\n",
       "      <th>7</th>\n",
       "      <td>Mortgage</td>\n",
       "      <td>Conventional home mortgage</td>\n",
       "      <td>My mortgage is with BB &amp; T Bank, recently I ha...</td>\n",
       "      <td>0</td>\n",
       "    </tr>\n",
       "    <tr>\n",
       "      <th>13</th>\n",
       "      <td>Mortgage</td>\n",
       "      <td>Conventional fixed mortgage</td>\n",
       "      <td>The entire lending experience with Citizens Ba...</td>\n",
       "      <td>1</td>\n",
       "    </tr>\n",
       "    <tr>\n",
       "      <th>339</th>\n",
       "      <td>Mortgage</td>\n",
       "      <td>Conventional home mortgage</td>\n",
       "      <td>I filed a prior complaint with this mortgage c...</td>\n",
       "      <td>0</td>\n",
       "    </tr>\n",
       "    <tr>\n",
       "      <th>374</th>\n",
       "      <td>Mortgage</td>\n",
       "      <td>Conventional home mortgage</td>\n",
       "      <td>In XX/XX/XXXX, I fell behind in my mortgage pa...</td>\n",
       "      <td>0</td>\n",
       "    </tr>\n",
       "    <tr>\n",
       "      <th>415</th>\n",
       "      <td>Mortgage</td>\n",
       "      <td>Conventional home mortgage</td>\n",
       "      <td>S.P.S. disregards mortgage contract and contin...</td>\n",
       "      <td>0</td>\n",
       "    </tr>\n",
       "  </tbody>\n",
       "</table>\n",
       "</div>"
      ],
      "text/plain": [
       "      Product                  Sub-product  \\\n",
       "7    Mortgage   Conventional home mortgage   \n",
       "13   Mortgage  Conventional fixed mortgage   \n",
       "339  Mortgage   Conventional home mortgage   \n",
       "374  Mortgage   Conventional home mortgage   \n",
       "415  Mortgage   Conventional home mortgage   \n",
       "\n",
       "                          Consumer_complaint_narrative  category_id  \n",
       "7    My mortgage is with BB & T Bank, recently I ha...            0  \n",
       "13   The entire lending experience with Citizens Ba...            1  \n",
       "339  I filed a prior complaint with this mortgage c...            0  \n",
       "374  In XX/XX/XXXX, I fell behind in my mortgage pa...            0  \n",
       "415  S.P.S. disregards mortgage contract and contin...            0  "
      ]
     },
     "execution_count": 13,
     "metadata": {},
     "output_type": "execute_result"
    }
   ],
   "source": [
    "from io import StringIO\n",
    "col = ['Product','Sub-product', 'Consumer complaint narrative']\n",
    "df = df[col]\n",
    "df = df[pd.notnull(df['Consumer complaint narrative'])]\n",
    "df.columns = ['Product', 'Sub-product', 'Consumer_complaint_narrative']\n",
    "df['category_id'] = df['Sub-product'].factorize()[0]\n",
    "category_id_df = df[['Sub-product', 'category_id']].drop_duplicates().sort_values('category_id')\n",
    "category_to_id = dict(category_id_df.values)\n",
    "id_to_category = dict(category_id_df[['category_id', 'Sub-product']].values)\n",
    "df.head()"
   ]
  },
  {
   "cell_type": "code",
   "execution_count": 14,
   "metadata": {},
   "outputs": [
    {
     "data": {
      "text/plain": [
       "array(['Conventional home mortgage', 'Conventional fixed mortgage',\n",
       "       'VA mortgage', 'FHA mortgage',\n",
       "       'Home equity loan or line of credit',\n",
       "       'Conventional adjustable mortgage (ARM)', 'Other type of mortgage',\n",
       "       'Reverse mortgage', 'Home equity loan or line of credit (HELOC)',\n",
       "       'Other mortgage'], dtype=object)"
      ]
     },
     "execution_count": 14,
     "metadata": {},
     "output_type": "execute_result"
    }
   ],
   "source": [
    "df['Sub-product'].unique()"
   ]
  },
  {
   "cell_type": "markdown",
   "metadata": {},
   "source": [
    "## Bar chart \n",
    "from bar chart we can see 'Conventional fixed mortgage' sub-product has highest complaints.\n"
   ]
  },
  {
   "cell_type": "code",
   "execution_count": 15,
   "metadata": {},
   "outputs": [
    {
     "data": {
      "image/png": "[encoded data removed]",
      "text/plain": [
       "<Figure size 576x432 with 1 Axes>"
      ]
     },
     "metadata": {},
     "output_type": "display_data"
    }
   ],
   "source": [
    "fig = plt.figure(figsize=(8,6))\n",
    "df.groupby('Sub-product').Consumer_complaint_narrative.count().plot.bar(ylim=0)\n",
    "plt.show()"
   ]
  },
  {
   "cell_type": "code",
   "execution_count": 16,
   "metadata": {},
   "outputs": [
    {
     "data": {
      "text/plain": [
       "(48290, 4)"
      ]
     },
     "execution_count": 16,
     "metadata": {},
     "output_type": "execute_result"
    }
   ],
   "source": [
    "df.shape"
   ]
  },
  {
   "cell_type": "markdown",
   "metadata": {},
   "source": [
    "## Reducing dataset size\n",
    "I'm runing this dataset on 6GB RAM system. only this much RAM is not able to run complete dataset so I'm reducing dataset to approx 40% of it(48290 to 20000)"
   ]
  },
  {
   "cell_type": "code",
   "execution_count": 17,
   "metadata": {},
   "outputs": [
    {
     "data": {
      "text/plain": [
       "(20000, 4)"
      ]
     },
     "execution_count": 17,
     "metadata": {},
     "output_type": "execute_result"
    }
   ],
   "source": [
    "df = df.head(20000)\n",
    "df.shape"
   ]
  },
  {
   "cell_type": "markdown",
   "metadata": {},
   "source": [
    "We can not directly process the text documents in their original form, as most of classification expect numerical feature vectors with a fixed size rather than the raw text documents with variable length.So we need to convert text in more manageable representation.\n",
    "\n",
    "I will calculate a measure called Term Frequency, Inverse Document Frequency(tf-idf) for each element of dataset.\n",
    "\n",
    "- sublinear_tf is set as True to use a logarithmic form for frequency.\n",
    "- min_df is the minimum numbers of documents a word must be present in to be kept.\n",
    "- ngram_range = (1, 2), consider both unigrams and bigrams.\n",
    "- stop_words is set to \"english\" to remove all common pronouns (\"a\", \"the\", ...) to reduce the number of noisy features.\n"
   ]
  },
  {
   "cell_type": "code",
   "execution_count": 18,
   "metadata": {},
   "outputs": [
    {
     "data": {
      "text/plain": [
       "(20000, 75679)"
      ]
     },
     "execution_count": 18,
     "metadata": {},
     "output_type": "execute_result"
    }
   ],
   "source": [
    "from sklearn.feature_extraction.text import TfidfVectorizer\n",
    "\n",
    "tfidf = TfidfVectorizer(sublinear_tf=True, min_df=5, norm='l2', encoding='latin-1', ngram_range=(1, 2), stop_words='english')\n",
    "\n",
    "features = tfidf.fit_transform(df.Consumer_complaint_narrative).toarray()\n",
    "labels = df.category_id\n",
    "features.shape"
   ]
  },
  {
   "cell_type": "markdown",
   "metadata": {},
   "source": [
    "Used chi2 method to find the terms that are the most correlated with each of the sub-products"
   ]
  },
  {
   "cell_type": "code",
   "execution_count": 19,
   "metadata": {},
   "outputs": [
    {
     "name": "stdout",
     "output_type": "stream",
     "text": [
      "# 'Conventional adjustable mortgage (ARM)':\n",
      "  . Most correlated unigrams:\n",
      ". sps\n",
      ". arm\n",
      "  . Most correlated bigrams:\n",
      ". refuses postpone\n",
      ". arm loan\n",
      "# 'Conventional fixed mortgage':\n",
      "  . Most correlated unigrams:\n",
      ". xx\n",
      ". 2018\n",
      "  . Most correlated bigrams:\n",
      ". xx xxxx\n",
      ". xx 2018\n",
      "# 'Conventional home mortgage':\n",
      "  . Most correlated unigrams:\n",
      ". mr\n",
      ". 2018\n",
      "  . Most correlated bigrams:\n",
      ". mr cooper\n",
      ". xx 2018\n",
      "# 'FHA mortgage':\n",
      "  . Most correlated unigrams:\n",
      ". carrington\n",
      ". fha\n",
      "  . Most correlated bigrams:\n",
      ". fha mortgage\n",
      ". fha loan\n",
      "# 'Home equity loan or line of credit':\n",
      "  . Most correlated unigrams:\n",
      ". equity\n",
      ". heloc\n",
      "  . Most correlated bigrams:\n",
      ". line credit\n",
      ". home equity\n",
      "# 'Home equity loan or line of credit (HELOC)':\n",
      "  . Most correlated unigrams:\n",
      ". equity\n",
      ". heloc\n",
      "  . Most correlated bigrams:\n",
      ". line credit\n",
      ". home equity\n",
      "# 'Other mortgage':\n",
      "  . Most correlated unigrams:\n",
      ". mha\n",
      ". usda\n",
      "  . Most correlated bigrams:\n",
      ". desired mandatory\n",
      ". mentioned resolutions\n",
      "# 'Other type of mortgage':\n",
      "  . Most correlated unigrams:\n",
      ". timeshare\n",
      ". habitat\n",
      "  . Most correlated bigrams:\n",
      ". keeps adding\n",
      ". habitat humanity\n",
      "# 'Reverse mortgage':\n",
      "  . Most correlated unigrams:\n",
      ". champion\n",
      ". reverse\n",
      "  . Most correlated bigrams:\n",
      ". champion mortgage\n",
      ". reverse mortgage\n",
      "# 'VA mortgage':\n",
      "  . Most correlated unigrams:\n",
      ". veterans\n",
      ". va\n",
      "  . Most correlated bigrams:\n",
      ". va mortgage\n",
      ". va loan\n"
     ]
    }
   ],
   "source": [
    "from sklearn.feature_selection import chi2\n",
    "import numpy as np\n",
    "N = 2\n",
    "for Sub_product, category_id in sorted(category_to_id.items()):\n",
    "    features_chi2 = chi2(features, labels == category_id)\n",
    "    indices = np.argsort(features_chi2[0])\n",
    "    feature_names = np.array(tfidf.get_feature_names())[indices]\n",
    "    unigrams = [v for v in feature_names if len(v.split(' ')) == 1]\n",
    "    bigrams = [v for v in feature_names if len(v.split(' ')) == 2]\n",
    "    print(\"# '{}':\".format(Sub_product))\n",
    "    print(\"  . Most correlated unigrams:\\n. {}\".format('\\n. '.join(unigrams[-N:])))\n",
    "    print(\"  . Most correlated bigrams:\\n. {}\".format('\\n. '.join(bigrams[-N:])))\n",
    "    \n",
    "  "
   ]
  },
  {
   "cell_type": "markdown",
   "metadata": {},
   "source": [
    "## Model selection\n",
    "After all the data cleaning ,now we have feature and labels so we can apply supervised classification models to train our dataset.\n",
    "\n",
    "### Logistic Regression"
   ]
  },
  {
   "cell_type": "code",
   "execution_count": 43,
   "metadata": {},
   "outputs": [
    {
     "data": {
      "text/plain": [
       "LogisticRegression(C=1.0, class_weight=None, dual=False, fit_intercept=True,\n",
       "          intercept_scaling=1, max_iter=100, multi_class='ovr', n_jobs=1,\n",
       "          penalty='l2', random_state=0, solver='liblinear', tol=0.0001,\n",
       "          verbose=0, warm_start=False)"
      ]
     },
     "execution_count": 43,
     "metadata": {},
     "output_type": "execute_result"
    }
   ],
   "source": [
    "from sklearn.model_selection import train_test_split\n",
    "from sklearn.feature_extraction.text import CountVectorizer\n",
    "from sklearn.feature_extraction.text import TfidfTransformer\n",
    "from sklearn.linear_model import LogisticRegression\n",
    "X_train, X_test, y_train, y_test = train_test_split(df['Consumer_complaint_narrative'], df['Sub-product'], random_state = 0)\n",
    "count_vect = CountVectorizer()\n",
    "X_train_counts = count_vect.fit_transform(X_train)\n",
    "tfidf_transformer = TfidfTransformer()\n",
    "X_train_tfidf = tfidf_transformer.fit_transform(X_train_counts)\n"
   ]
  },
  {
   "cell_type": "code",
   "execution_count": 49,
   "metadata": {},
   "outputs": [],
   "source": [
    "X_test_counts = count_vect.transform(X_test)\n",
    "X_test_tfidf = tfidf_transformer.transform(X_test_counts)\n"
   ]
  },
  {
   "cell_type": "code",
   "execution_count": 50,
   "metadata": {},
   "outputs": [
    {
     "name": "stdout",
     "output_type": "stream",
     "text": [
      "0.001\n",
      "0.2952\n",
      "0.01\n",
      "0.3076\n",
      "0.1\n",
      "0.3504\n",
      "1\n",
      "0.4098\n",
      "100\n",
      "0.3572\n",
      "1000\n",
      "0.3374\n"
     ]
    }
   ],
   "source": [
    "Cs = [0.001, 0.01, 0.1, 1, 100, 1000 ]\n",
    "for c in Cs:\n",
    "    print(c)\n",
    "    clf = LogisticRegression(C = c,random_state=0)\n",
    "    clf.fit(X_train_tfidf, y_train)\n",
    "    print(clf.score(X_test_tfidf, y_test))"
   ]
  },
  {
   "cell_type": "markdown",
   "metadata": {},
   "source": [
    "#### Result :\n",
    "We obtain higest accuracy of 40% on selecting c parameter as 1 on this dataset.\n",
    "Note: We are using only 40% of data to classify (System problem)\n"
   ]
  },
  {
   "cell_type": "markdown",
   "metadata": {},
   "source": [
    "### Linear Support Vector Classification"
   ]
  },
  {
   "cell_type": "code",
   "execution_count": 52,
   "metadata": {},
   "outputs": [
    {
     "name": "stdout",
     "output_type": "stream",
     "text": [
      "0.001\n",
      "0.308\n",
      "0.01\n",
      "0.356\n",
      "0.1\n",
      "0.415\n",
      "1\n",
      "0.3956\n",
      "100\n",
      "0.325\n",
      "1000\n",
      "0.3204\n"
     ]
    }
   ],
   "source": [
    "Cs = [0.001, 0.01, 0.1, 1, 100, 1000 ]\n",
    "for c in Cs:\n",
    "    print(c)\n",
    "    clf1 = LinearSVC(C = c)\n",
    "    clf1.fit(X_train_tfidf, y_train)\n",
    "    print(clf1.score(X_test_tfidf, y_test))\n",
    "    \n",
    " "
   ]
  },
  {
   "cell_type": "markdown",
   "metadata": {},
   "source": [
    "Result : 41.5 % Accuracy obtain while chooseing C = 0.1, This accuracy is on 40% of total data\n",
    "    "
   ]
  },
  {
   "cell_type": "code",
   "execution_count": 45,
   "metadata": {},
   "outputs": [
    {
     "name": "stdout",
     "output_type": "stream",
     "text": [
      "['Conventional fixed mortgage']\n"
     ]
    }
   ],
   "source": [
    "print(clf.predict(count_vect.transform([\"I was notified via a letter in the mail by home loan was being transferred to another company. I received the notice on XXXX XXXX, 2015 stating XXXX XXXX, 2015, I would be making payments to the new lender. This provided me with only 11 days written notice from my original loan servicer that my loan was being transferred, falling short of 15 days notice. I have not yet received any correspondence from the new loan servicer.\"])))"
   ]
  },
  {
   "cell_type": "markdown",
   "metadata": {},
   "source": [
    "## Final Result \n",
    "41.5% accuracy on 40% of total mortgage product dataset. If We apply same code on complete data We can get 70-80 % accuracy"
   ]
  },
  {
   "cell_type": "code",
   "execution_count": null,
   "metadata": {},
   "outputs": [],
   "source": []
  }
 ],
 "metadata": {
  "kernelspec": {
   "display_name": "Python 3",
   "language": "python",
   "name": "python3"
  },
  "language_info": {
   "codemirror_mode": {
    "name": "ipython",
    "version": 3
   },
   "file_extension": ".py",
   "mimetype": "text/x-python",
   "name": "python",
   "nbconvert_exporter": "python",
   "pygments_lexer": "ipython3",
   "version": "3.6.5"
  }
 },
 "nbformat": 4,
 "nbformat_minor": 2
}
